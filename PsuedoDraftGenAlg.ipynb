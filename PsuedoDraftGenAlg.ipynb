{
 "cells": [
  {
   "cell_type": "code",
   "execution_count": null,
   "id": "ad094e7d-c409-4e74-8f8f-492dd174b958",
   "metadata": {},
   "outputs": [],
   "source": [
    "'''\n",
    "Fin Optimizer Genetic Algorithm\n",
    "\n",
    "def Alg(height, tip, sweep):\n",
    "\n",
    "-Generate random (ex:1,000) combinations from an even distribution for these 3 variables with reasonable range for each\n",
    "-Choose cost function:\n",
    "    choose target height: (ex:30,500)\n",
    "    calculate cost and stability minumum\n",
    "        toss out if stability at off launch rod < (ex:1.6)\n",
    "        toss out if stability at seperation < (ex:1.4)\n",
    "        #add toss out due to fin flutter\n",
    "        choose cost function: ex: cost = (predicted-target)^2\n",
    "        generate more examples to account for toss outs\n",
    "-Run cost function and other conditions through the simulations for all conditions and return values\n",
    "-Rank cost values min to max\n",
    "-Elitism: \n",
    "    Choose the minimum (ex:10) combinations automatically \n",
    "    Do not run crossover -> straight to mutation step list\n",
    "-Choose top (ex:90) (incl or excl Elitist ones) combinations and crossover\n",
    "-Crossover:\n",
    "    Choose Beta B range (ex:6-8)\n",
    "    For the chosen combinations, make pairs of 2\n",
    "    Out of 3 variables, randomly choose 1 to crossover\n",
    "    For a pair, x (= xH, xT, xS) and y (= yH, yT, yS), where 2nd variable is to be crossed:\n",
    "        New1 = xH, (1-B)xT + (B)yT, xS\n",
    "        New2 = yH, (B)xT + (1-B)yT, yS\n",
    "    For each pair, do this combination 10 times with random Beta B in range and save all new products\n",
    "-### This will produce 900 new combinations, +10 of the elitist old ones (910total)\n",
    "-Multiply 10 elitest ones to make 100\n",
    "    By very slightly changing them... +- in range (ex:0.1%), 9 times\n",
    "-### The total combinations is 1000 now\n",
    "-Mutation:\n",
    "    For (ex:700) combinations, do not change anything -> send straight to list for next generation\n",
    "    For rest of combinations (ex:300):\n",
    "        For 100a of them: Mutate first variable by random +- in range (ex:10) -> where range reduces over generations\n",
    "        For 100b of them: Mutate second variable by random +- in range (ex:10) -> where range reduces over generations\n",
    "        For 100c of them: Mutate third variable by random +- in range (ex:10) -> where range reduces over generations\n",
    "-### Exactly 1000 combinations go to next generation\n",
    "-Run for (ex:1000) generations reducing range of mutations every time\n",
    "-Once the final generation of fin combinations has been created \n",
    "    -> choose top 10 minimized fin combinations and Return\n",
    "    \n",
    "\n",
    "/// Will check manually in OpenRocket for all criteria incl manufacturing viability, any other preferences in selection\n",
    "    '''"
   ]
  },
  {
   "cell_type": "markdown",
   "metadata": {},
   "source": []
  }
 ],
 "metadata": {
  "kernelspec": {
   "display_name": "Python 3",
   "language": "python",
   "name": "python3"
  },
  "language_info": {
   "codemirror_mode": {
    "name": "ipython",
    "version": 3
   },
   "file_extension": ".py",
   "mimetype": "text/x-python",
   "name": "python",
   "nbconvert_exporter": "python",
   "pygments_lexer": "ipython3",
   "version": "3.8.8"
  }
 },
 "nbformat": 4,
 "nbformat_minor": 5
}
